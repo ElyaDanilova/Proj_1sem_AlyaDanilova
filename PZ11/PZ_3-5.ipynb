{
  "nbformat": 4,
  "nbformat_minor": 0,
  "metadata": {
    "colab": {
      "name": "Untitled0.ipynb",
      "provenance": [],
      "toc_visible": true,
      "authorship_tag": "ABX9TyNrsPSz3aLygKsgcA2K6cf+",
      "include_colab_link": true
    },
    "kernelspec": {
      "name": "python3",
      "display_name": "Python 3"
    },
    "language_info": {
      "name": "python"
    }
  },
  "cells": [
    {
      "cell_type": "markdown",
      "metadata": {
        "id": "view-in-github",
        "colab_type": "text"
      },
      "source": [
        "<a href=\"https://colab.research.google.com/github/ElyaDanilova/Proj_1sem_AlyaDanilova/blob/master/PZ11/PZ_3-5.ipynb\" target=\"_parent\"><img src=\"https://colab.research.google.com/assets/colab-badge.svg\" alt=\"Open In Colab\"/></a>"
      ]
    },
    {
      "cell_type": "markdown",
      "source": [
        "# PZ_3"
      ],
      "metadata": {
        "id": "6bii98UgNVx-"
      }
    },
    {
      "cell_type": "markdown",
      "source": [
        "Даны два целых числа: A,B. Проверить истинность высказывания: «Числа A и B имеют одинаковую четность»."
      ],
      "metadata": {
        "id": "4lA-wszkNp-9"
      }
    },
    {
      "cell_type": "code",
      "source": [
        "# Даны два целых числа: A,B.\n",
        "# Проверить истинность высказывания: «Числа A и B имеют одинаковую четность».\n",
        "a = input(\"Введите число A: \")\n",
        "while type(a) !=int: # Обработа исключений\n",
        "    try:\n",
        "        a = int(a)\n",
        "    except ValueError:\n",
        "        print(\"Введено неверное число!\")\n",
        "        a = input(\"Введите число A: \")\n",
        "\n",
        "b = input(\"Введите число B: \")\n",
        "while type(b) !=int: # Обработа исключений\n",
        "    try:\n",
        "        b = int(b)\n",
        "    except ValueError:\n",
        "        print(\"Введеноневерноечисло!\")\n",
        "        b = input(\"Введитечисло B: \")\n",
        "\n",
        "if ((a % 2 == 0) and (b % 2 == 0)) or ((a % 2 != 0) and(b % 2 != 0 )):\n",
        "    print(\"Высказывание «Числа A и B имеют одинаковую четность» - истина.\")\n",
        "else:\n",
        "    print(\"Высказывание «Числа A и B имеют одинаковую четность» - ложь.\")"
      ],
      "metadata": {
        "id": "EJpgTKnhNqS_"
      },
      "execution_count": null,
      "outputs": []
    },
    {
      "cell_type": "markdown",
      "source": [
        "Дано целое число, лежащее в диапазоне 1-999. Вывести его строку - описание вида «четное двузначное число»,«нечетное трехзначное число» и т. д."
      ],
      "metadata": {
        "id": "TgJ7VazCNqaV"
      }
    },
    {
      "cell_type": "code",
      "source": [
        "# Дано целое число, лежащее в диапазоне 1-999.\n",
        "# Вывести его строку - описание вида «четное двузначное число»,\n",
        "# «нечетное трехзначное число» и т. д.\n",
        "\n",
        "a = input(\"Введите число (1-999): \")\n",
        "while type(a) != int: # Обработаисключений\n",
        "    try:\n",
        "        a = int(a)\n",
        "    except ValueError:\n",
        "        print(\"Введенное верное число!\")\n",
        "        a = input(\"Введите число (1-999): \")\n",
        "if(a >0) and(a <100) and(a % 2 == 0):\n",
        "    print(\"Введенное число - «четное двузначное число». \")\n",
        "elif(a >0) and(a <100) and(a % 2 != 0):\n",
        "    print(\"Введенное число - «нечетное двузначное число». \")\n",
        "elif(a >99) and(a <1000) and(a % 2 == 0):\n",
        "    print(\"Введенное число - «четное трехзначное число». \")\n",
        "else:\n",
        "    print(\"Введенное число - «нечетное трехзначное число». \")"
      ],
      "metadata": {
        "id": "I0OIqGISNqkN"
      },
      "execution_count": null,
      "outputs": []
    },
    {
      "cell_type": "markdown",
      "source": [
        "# PZ_4"
      ],
      "metadata": {
        "id": "m4rUJrZzNWl8"
      }
    },
    {
      "cell_type": "markdown",
      "source": [
        "Дано целое число N (>0) Найти произведение 1.1 * 1.2 * 1.3 * ... (N сомножителей)"
      ],
      "metadata": {
        "id": "5KQAB9UAOYt2"
      }
    },
    {
      "cell_type": "code",
      "source": [
        "# Дано целое число N (>0)\n",
        "# Найти произведение 1.1 * 1.2 * 1.3 * ... (N сомножителей)\n",
        "\n",
        "n = input(\"Введите число: \")\n",
        "while type(n) != int: # Проверка исключений.\n",
        "    try:\n",
        "        n = int(n)\n",
        "    except ValueError:\n",
        "        print(\"Введеноневерноечисло.\")\n",
        "        n = input(\"Введите число: \")\n",
        "\n",
        "try:\n",
        "    while n < 0:     # n - положительное число.\n",
        "        print(\"Введено неверное число.\")\n",
        "        n = input(\"Введите число: \")\n",
        "except TypeError:\n",
        "    pass\n",
        "\n",
        "f = 1.1\n",
        "m = 0.1\n",
        "k = 1\n",
        "p = 1\n",
        "\n",
        "while k <= n:\n",
        "    p *= f\n",
        "    f += m\n",
        "    k += 1\n",
        "print(round(p, 2))\n"
      ],
      "metadata": {
        "id": "THti7eXxOY0m"
      },
      "execution_count": null,
      "outputs": []
    },
    {
      "cell_type": "markdown",
      "source": [
        "Дано целое число N (>1) Найти наименьшее целое K, при котором выполянетсянерванество 3**K > N"
      ],
      "metadata": {
        "id": "pGUABAQIOY7_"
      }
    },
    {
      "cell_type": "code",
      "source": [
        "# Дано целое число N (>1)\n",
        "# Найти наименьшее целое K, при котором выполянетсянерванество 3**K > N\n",
        "\n",
        "n = input(\"Введите число: \")\n",
        "while type(n) != int: # Проверка исключений.\n",
        "    try:\n",
        "        n = int(n)\n",
        "    except ValueError:\n",
        "        print(\"Введеноневерноечисло.\")\n",
        "        n = input(\"Введите число: \")\n",
        "try:\n",
        "    while n < 1:\n",
        "        print(\"Введено неверное число.\")\n",
        "        n = input(\"Введитечисло: \")\n",
        "except TypeError:\n",
        "    pass\n",
        "\n",
        "k = 0\n",
        "p = 0\n",
        "\n",
        "while p < n:\n",
        "    p = 3**k\n",
        "    if p <= n:\n",
        "        k += 1\n",
        "\n",
        "print(k)"
      ],
      "metadata": {
        "id": "D_wrUyKjOZD2"
      },
      "execution_count": null,
      "outputs": []
    },
    {
      "cell_type": "markdown",
      "source": [
        "# PZ_5"
      ],
      "metadata": {
        "id": "6sAiTb87NXAO"
      }
    },
    {
      "cell_type": "markdown",
      "source": [
        "Составить функцию, которая напечатает сорок любых символов"
      ],
      "metadata": {
        "id": "JLmNJ2fNPDVt"
      }
    },
    {
      "cell_type": "code",
      "source": [
        "# Составить функцию, которая напечатает сорок любых символов\n",
        "\n",
        "def si(a, b): # Создание функции\n",
        "    while a >= 0:\n",
        "        print(b)\n",
        "        a -= 1\n",
        "    exit(0)\n",
        "\n",
        "t = 40\n",
        "s = input(\"Введите символ который хотите напечатать\")\n",
        "print(si(t, s))\n"
      ],
      "metadata": {
        "id": "Qk_h5mjdPDj1"
      },
      "execution_count": null,
      "outputs": []
    },
    {
      "cell_type": "markdown",
      "source": [
        "Описать функцию SortInc3 (A, B, C), меняющую содержимое переменных A, B, C таким образом, чтобы их значения оказались упорядоченными по возрастанию (A, B, C - вещественные параметры, являющиеся одновременно входными и выходными). С помощью этой функции упорядочить по возрастанию два данных набора из трех чисел: (Ai, Bi, Ci) и (A2, B2, C2,)."
      ],
      "metadata": {
        "id": "xdghLztPPDsm"
      }
    },
    {
      "cell_type": "code",
      "source": [
        "# Описать функцию SortInc3 (A, B, C), меняющую содержимое\n",
        "# переменных A, B, C таким образом, чтобы их значения\n",
        "# оказались упорядоченными по возрастанию\n",
        "# (A, B, C - вещественные параметры, являющиеся\n",
        "# одновременно входными и выходными).\n",
        "# С помощью этой функции упорядочить по возрастанию\n",
        "# два данных набора из трех чисел: (Ai, Bi, Ci) и\n",
        "# (A2, B2, C2,).\n",
        "\n",
        "def SortInc3():\n",
        "    a = float(input(\"Введитечисло A: \"))\n",
        "    b = float(input(\"Введитечисло B: \"))\n",
        "    c = float(input(\"Введитечисло C: \"))\n",
        "    if (a > b) and (a > c):\n",
        "        a, c = c, a\n",
        "    if (a < b) and (b > c):\n",
        "        b, c = c, b\n",
        "    if (a > b) and (b < c):\n",
        "        a, b = b, a\n",
        "    print(a, b, c)\n",
        "\n",
        "\n",
        "SortInc3()\n",
        "SortInc3()\n"
      ],
      "metadata": {
        "id": "02mluiZ5PD2u"
      },
      "execution_count": null,
      "outputs": []
    }
  ]
}